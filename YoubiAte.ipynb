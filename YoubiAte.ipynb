{
 "cells": [
  {
   "cell_type": "code",
   "execution_count": 11,
   "id": "f91895da",
   "metadata": {},
   "outputs": [
    {
     "name": "stdout",
     "output_type": "stream",
     "text": [
      "8ケタで日付を入力してください20211116\n",
      "2021 11 16\n",
      "Tuesday\n"
     ]
    }
   ],
   "source": [
    "from dateutil import *\n",
    "import datetime as dt\n",
    "import locale\n",
    "\n",
    "def left(text, n):\n",
    "  return text[:n]\n",
    "\n",
    "def right(text, n):\n",
    "  return text[-n:]\n",
    "\n",
    "def mid(text, n, m):\n",
    "  return text[n-1:n+m-1]\n",
    "\n",
    "hiduke = input('8ケタで日付を入力してください')\n",
    "year = int(left(hiduke,4))\n",
    "month = int(mid(hiduke,5,2))\n",
    "day = int(right(hiduke,2))\n",
    "print(year,month,day)\n",
    "\n",
    "date = dt.date(year,month,day)\n",
    "print(date.strftime('%A'))"
   ]
  },
  {
   "cell_type": "code",
   "execution_count": null,
   "id": "46840ea3",
   "metadata": {},
   "outputs": [],
   "source": []
  },
  {
   "cell_type": "code",
   "execution_count": null,
   "id": "8aa04e4e",
   "metadata": {},
   "outputs": [],
   "source": []
  },
  {
   "cell_type": "code",
   "execution_count": null,
   "id": "050607ef",
   "metadata": {},
   "outputs": [],
   "source": []
  },
  {
   "cell_type": "code",
   "execution_count": null,
   "id": "c7f84b92",
   "metadata": {},
   "outputs": [],
   "source": []
  },
  {
   "cell_type": "code",
   "execution_count": null,
   "id": "26b5ba3e",
   "metadata": {},
   "outputs": [],
   "source": []
  },
  {
   "cell_type": "code",
   "execution_count": null,
   "id": "6773f723",
   "metadata": {},
   "outputs": [],
   "source": []
  },
  {
   "cell_type": "code",
   "execution_count": null,
   "id": "0d493262",
   "metadata": {},
   "outputs": [],
   "source": []
  }
 ],
 "metadata": {
  "kernelspec": {
   "display_name": "Python 3",
   "language": "python",
   "name": "python3"
  },
  "language_info": {
   "codemirror_mode": {
    "name": "ipython",
    "version": 3
   },
   "file_extension": ".py",
   "mimetype": "text/x-python",
   "name": "python",
   "nbconvert_exporter": "python",
   "pygments_lexer": "ipython3",
   "version": "3.8.8"
  }
 },
 "nbformat": 4,
 "nbformat_minor": 5
}
