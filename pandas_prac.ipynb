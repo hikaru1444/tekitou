{
 "cells": [
  {
   "cell_type": "code",
   "execution_count": 1,
   "id": "6b950695",
   "metadata": {},
   "outputs": [],
   "source": [
    "#https://aiacademy.jp/media/?p=152 　参考\n",
    "import pandas as pd"
   ]
  },
  {
   "cell_type": "code",
   "execution_count": 2,
   "id": "af0d2a6c",
   "metadata": {},
   "outputs": [
    {
     "name": "stdout",
     "output_type": "stream",
     "text": [
      "0    1\n",
      "1    2\n",
      "2    3\n",
      "3    5\n",
      "dtype: int64\n"
     ]
    }
   ],
   "source": [
    "#Series\n",
    "s1 = pd.Series([1,2,3,5])\n",
    "print(s1)"
   ]
  },
  {
   "cell_type": "code",
   "execution_count": 8,
   "id": "b4bc3084",
   "metadata": {},
   "outputs": [
    {
     "name": "stdout",
     "output_type": "stream",
     "text": [
      "   名前     役割   身長\n",
      "0  田中   営業部長  178\n",
      "1  山田    広報部  173\n",
      "2  高橋  技術責任者  169\n",
      "\n",
      "\n",
      "\n",
      "名前    object\n",
      "役割    object\n",
      "身長     int64\n",
      "dtype: object\n",
      "\n",
      "\n",
      "\n",
      "Index(['名前', '役割', '身長'], dtype='object')\n"
     ]
    }
   ],
   "source": [
    "df = pd.DataFrame({\n",
    "    '名前' :['田中', '山田', '高橋'],\n",
    "    '役割' : ['営業部長', '広報部', '技術責任者'],\n",
    "    '身長' : [178, 173, 169]\n",
    "    })\n",
    "print(df)\n",
    "print(\"\\n\\n\")\n",
    "print(df.dtypes)\n",
    "print(\"\\n\\n\")\n",
    "print(df.columns) # 列ラベルの確認(辞書型のkeyが列ラベル）"
   ]
  },
  {
   "cell_type": "code",
   "execution_count": 10,
   "id": "5e9d49a8",
   "metadata": {},
   "outputs": [
    {
     "data": {
      "text/html": [
       "<div>\n",
       "<style scoped>\n",
       "    .dataframe tbody tr th:only-of-type {\n",
       "        vertical-align: middle;\n",
       "    }\n",
       "\n",
       "    .dataframe tbody tr th {\n",
       "        vertical-align: top;\n",
       "    }\n",
       "\n",
       "    .dataframe thead th {\n",
       "        text-align: right;\n",
       "    }\n",
       "</style>\n",
       "<table border=\"1\" class=\"dataframe\">\n",
       "  <thead>\n",
       "    <tr style=\"text-align: right;\">\n",
       "      <th></th>\n",
       "      <th>名前</th>\n",
       "      <th>役割</th>\n",
       "      <th>身長</th>\n",
       "    </tr>\n",
       "  </thead>\n",
       "  <tbody>\n",
       "    <tr>\n",
       "      <th>0</th>\n",
       "      <td>田中</td>\n",
       "      <td>営業部長</td>\n",
       "      <td>178</td>\n",
       "    </tr>\n",
       "    <tr>\n",
       "      <th>1</th>\n",
       "      <td>山田</td>\n",
       "      <td>広報部</td>\n",
       "      <td>173</td>\n",
       "    </tr>\n",
       "    <tr>\n",
       "      <th>2</th>\n",
       "      <td>高橋</td>\n",
       "      <td>技術責任者</td>\n",
       "      <td>169</td>\n",
       "    </tr>\n",
       "    <tr>\n",
       "      <th>0</th>\n",
       "      <td>田中</td>\n",
       "      <td>営業部長</td>\n",
       "      <td>178</td>\n",
       "    </tr>\n",
       "    <tr>\n",
       "      <th>1</th>\n",
       "      <td>山田</td>\n",
       "      <td>広報部</td>\n",
       "      <td>173</td>\n",
       "    </tr>\n",
       "    <tr>\n",
       "      <th>2</th>\n",
       "      <td>高橋</td>\n",
       "      <td>技術責任者</td>\n",
       "      <td>169</td>\n",
       "    </tr>\n",
       "  </tbody>\n",
       "</table>\n",
       "</div>"
      ],
      "text/plain": [
       "   名前     役割   身長\n",
       "0  田中   営業部長  178\n",
       "1  山田    広報部  173\n",
       "2  高橋  技術責任者  169\n",
       "0  田中   営業部長  178\n",
       "1  山田    広報部  173\n",
       "2  高橋  技術責任者  169"
      ]
     },
     "execution_count": 10,
     "metadata": {},
     "output_type": "execute_result"
    }
   ],
   "source": [
    "df.head()#先頭や末尾からその件数分取得\n",
    "df.tail()\n",
    "df.head(3).append(df.tail(3))"
   ]
  },
  {
   "cell_type": "code",
   "execution_count": 12,
   "id": "8e18163e",
   "metadata": {},
   "outputs": [
    {
     "name": "stdout",
     "output_type": "stream",
     "text": [
      "     A   B   C   D\n",
      "1行  10  20  30  30\n",
      "2行  25  50  65  80\n",
      "\n",
      "\n"
     ]
    }
   ],
   "source": [
    "#query\n",
    "df = pd.DataFrame([[10, 20,30, 30], [25, 50,65, 80]], index=[\"1行\", \"2行\"], columns=[\"A\", \"B\", \"C\", \"D\"])\n",
    "print(df)\n",
    "print(\"\\n\")\n",
    " "
   ]
  },
  {
   "cell_type": "code",
   "execution_count": 20,
   "id": "643d575c",
   "metadata": {},
   "outputs": [
    {
     "name": "stdout",
     "output_type": "stream",
     "text": [
      "     A   B   C   D\n",
      "1行  10  20  30  30\n"
     ]
    }
   ],
   "source": [
    "print(df.query('A == 10'))"
   ]
  }
 ],
 "metadata": {
  "kernelspec": {
   "display_name": "Python 3",
   "language": "python",
   "name": "python3"
  },
  "language_info": {
   "codemirror_mode": {
    "name": "ipython",
    "version": 3
   },
   "file_extension": ".py",
   "mimetype": "text/x-python",
   "name": "python",
   "nbconvert_exporter": "python",
   "pygments_lexer": "ipython3",
   "version": "3.8.8"
  }
 },
 "nbformat": 4,
 "nbformat_minor": 5
}
